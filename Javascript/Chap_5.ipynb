{
 "cells": [
  {
   "cell_type": "code",
   "execution_count": 1,
   "metadata": {},
   "outputs": [],
   "source": [
    "var superman = {\n",
    "    name: \"Superman\",\n",
    " \"real name\": \"Clark Kent\",\n",
    " height: 75,\n",
    " weight: 235,\n",
    " hero: true,\n",
    " villain: false,\n",
    " allies: [\"Batman\",\"Supergirl\",\"Superboy\"],\n",
    "}"
   ]
  },
  {
   "cell_type": "code",
   "execution_count": 2,
   "metadata": {},
   "outputs": [
    {
     "data": {
      "text/plain": [
       "'lois lane'"
      ]
     },
     "execution_count": 2,
     "metadata": {},
     "output_type": "execute_result"
    }
   ],
   "source": [
    "superman[\"wife\"] = \"lois lane\";"
   ]
  },
  {
   "cell_type": "code",
   "execution_count": 3,
   "metadata": {},
   "outputs": [
    {
     "data": {
      "text/plain": [
       "{\n",
       "  name: 'Superman',\n",
       "  'real name': 'Clark Kent',\n",
       "  height: 75,\n",
       "  weight: 235,\n",
       "  hero: true,\n",
       "  villain: false,\n",
       "  allies: [ 'Batman', 'Supergirl', 'Superboy' ],\n",
       "  wife: 'lois lane'\n",
       "}"
      ]
     },
     "execution_count": 3,
     "metadata": {},
     "output_type": "execute_result"
    }
   ],
   "source": [
    "superman;"
   ]
  },
  {
   "cell_type": "code",
   "execution_count": 4,
   "metadata": {},
   "outputs": [
    {
     "data": {
      "text/plain": [
       "'Superman'"
      ]
     },
     "execution_count": 4,
     "metadata": {},
     "output_type": "execute_result"
    }
   ],
   "source": [
    "superman.name;"
   ]
  },
  {
   "cell_type": "code",
   "execution_count": 5,
   "metadata": {},
   "outputs": [
    {
     "data": {
      "text/plain": [
       "'lois lane'"
      ]
     },
     "execution_count": 5,
     "metadata": {},
     "output_type": "execute_result"
    }
   ],
   "source": [
    "superman.wife;"
   ]
  },
  {
   "cell_type": "code",
   "execution_count": 6,
   "metadata": {},
   "outputs": [],
   "source": [
    "var wonderWoman = {\n",
    " name: \"Wonder Woman\",\n",
    " \"real name\": \"Diana Prince\",\n",
    " height: 72,\n",
    " weight: 165,\n",
    " hero: true,\n",
    " villain: false,\n",
    " allies: [\"Wonder Girl\",\"Donna Troy\",\"Superman\"],\n",
    " lasso: function(){\n",
    " console.log(\"You will tell the truth!\");\n",
    " }\n",
    "}\n"
   ]
  },
  {
   "cell_type": "code",
   "execution_count": 9,
   "metadata": {},
   "outputs": [
    {
     "data": {
      "text/plain": [
       "'{\"name\":\"Wonder Woman\",\"real name\":\"Diana Prince\",\"height\":72,\"weight\":165,\"hero\":true,\"villain\":false,\"allies\":[\"Wonder Girl\",\"Donna Troy\",\"Superman\"]}'"
      ]
     },
     "execution_count": 9,
     "metadata": {},
     "output_type": "execute_result"
    }
   ],
   "source": [
    "JSON.stringify(wonderWoman);"
   ]
  },
  {
   "cell_type": "code",
   "execution_count": 10,
   "metadata": {},
   "outputs": [
    {
     "data": {
      "text/plain": [
       "2021-07-29T19:45:08.386Z"
      ]
     },
     "execution_count": 10,
     "metadata": {},
     "output_type": "execute_result"
    }
   ],
   "source": [
    "today = new Date()"
   ]
  },
  {
   "cell_type": "code",
   "execution_count": 11,
   "metadata": {},
   "outputs": [
    {
     "data": {
      "text/plain": [
       "'Thu Jul 29 2021 20:45:08 GMT+0100 (West Africa Standard Time)'"
      ]
     },
     "execution_count": 11,
     "metadata": {},
     "output_type": "execute_result"
    }
   ],
   "source": [
    "today.toString()"
   ]
  },
  {
   "cell_type": "code",
   "execution_count": 12,
   "metadata": {},
   "outputs": [],
   "source": [
    "// bulk of this chapter codes were tested on the javascript console of chrome"
   ]
  },
  {
   "cell_type": "code",
   "execution_count": null,
   "metadata": {},
   "outputs": [],
   "source": []
  }
 ],
 "metadata": {
  "kernelspec": {
   "display_name": "Javascript (Node.js)",
   "language": "javascript",
   "name": "javascript"
  },
  "language_info": {
   "file_extension": ".js",
   "mimetype": "application/javascript",
   "name": "javascript",
   "version": "12.16.3"
  }
 },
 "nbformat": 4,
 "nbformat_minor": 2
}
